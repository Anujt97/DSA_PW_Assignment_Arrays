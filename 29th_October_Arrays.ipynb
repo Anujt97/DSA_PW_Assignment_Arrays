{
 "cells": [
  {
   "cell_type": "markdown",
   "id": "01845503",
   "metadata": {},
   "source": [
    "Question 1 :- Given an array, check if it contains any duplicates or not."
   ]
  },
  {
   "cell_type": "code",
   "execution_count": 9,
   "id": "70ae6557",
   "metadata": {},
   "outputs": [
    {
     "name": "stdout",
     "output_type": "stream",
     "text": [
      "True\n"
     ]
    }
   ],
   "source": [
    "def check_duplicates(array):\n",
    "    seen = set()\n",
    "    for element in array:\n",
    "        if element in seen:\n",
    "            return True\n",
    "        seen.add(element)\n",
    "    return False\n",
    "\n",
    "arr = [1, 2, 4, 2, 5, 9]\n",
    "print(check_duplicates(arr))"
   ]
  },
  {
   "cell_type": "markdown",
   "id": "d7b03b77",
   "metadata": {},
   "source": [
    "Question 2 :- Given an array and an integer k, rotate the array to the right by k steps."
   ]
  },
  {
   "cell_type": "code",
   "execution_count": 17,
   "id": "8af4bd52",
   "metadata": {},
   "outputs": [
    {
     "name": "stdout",
     "output_type": "stream",
     "text": [
      "[5, 6, 7, 1, 2, 3, 4]\n"
     ]
    }
   ],
   "source": [
    "def rotate_array(array, n):\n",
    "    for i in range(0, n):\n",
    "        temp = arr[len(array)-1]\n",
    "        for j in range(len(array)-1, 0, -1):\n",
    "            array[j] = array[j-1]\n",
    "        array[0]=temp\n",
    "    return array\n",
    "\n",
    "arr=[1,2,3,4,5,6,7]\n",
    "k=3\n",
    "\n",
    "roght_rotated_array = rotate_array(arr, k)\n",
    "print(roght_rotated_array)"
   ]
  },
  {
   "cell_type": "markdown",
   "id": "be621db3",
   "metadata": {},
   "source": [
    "Question 3 :- reverse the given array in-place, means without using any extra data structure."
   ]
  },
  {
   "cell_type": "code",
   "execution_count": 19,
   "id": "1b4637b7",
   "metadata": {},
   "outputs": [
    {
     "name": "stdout",
     "output_type": "stream",
     "text": [
      "[12, 9, 7, 5, 4, 2]\n"
     ]
    }
   ],
   "source": [
    "def reverse_array(array):\n",
    "    start, end = 0, len(array)-1\n",
    "    \n",
    "    while start < end:\n",
    "        array[start] , array[end] = array[end], array[start]\n",
    "        \n",
    "        start += 1\n",
    "        end -= 1\n",
    "        \n",
    "    return array\n",
    "\n",
    "array = [2,4,5,7,9,12]\n",
    "reversed_array = reverse_array(array)\n",
    "print(reversed_array)"
   ]
  },
  {
   "cell_type": "markdown",
   "id": "ddac2208",
   "metadata": {},
   "source": [
    "Question 4 :- Given an array of integers, find the maximum element in an array"
   ]
  },
  {
   "cell_type": "code",
   "execution_count": 20,
   "id": "aac94024",
   "metadata": {},
   "outputs": [
    {
     "name": "stdout",
     "output_type": "stream",
     "text": [
      "20\n"
     ]
    }
   ],
   "source": [
    "def max_num(array):\n",
    "    max_number = array[0]\n",
    "    \n",
    "    for i in array[1:]:\n",
    "        if i > max_number:\n",
    "            max_number = i\n",
    "            \n",
    "    return max_number\n",
    "\n",
    "arr=[10,5,20,8,15]\n",
    "maximum_number = max_num(arr)\n",
    "print(maximum_number)"
   ]
  },
  {
   "cell_type": "markdown",
   "id": "76b93599",
   "metadata": {},
   "source": [
    "Question 5 :- Given a sorted array, remove the duplicate element without using any extra data structure."
   ]
  },
  {
   "cell_type": "code",
   "execution_count": 21,
   "id": "568af588",
   "metadata": {},
   "outputs": [
    {
     "name": "stdout",
     "output_type": "stream",
     "text": [
      "[1, 2, 3, 4, 5]\n"
     ]
    }
   ],
   "source": [
    "def remove_duplicates(arr):\n",
    "    unique_index = 0\n",
    "\n",
    "    for i in range(1, len(arr)):\n",
    "        if arr[i] != arr[unique_index]:\n",
    "            unique_index += 1\n",
    "            arr[unique_index] = arr[i]\n",
    "\n",
    "    return unique_index + 1\n",
    "\n",
    "arr = [1, 1, 2, 2, 2, 3, 3, 4, 4, 4, 5, 5]\n",
    "new_length = remove_duplicates(arr)\n",
    "print(arr[:new_length])"
   ]
  },
  {
   "cell_type": "code",
   "execution_count": null,
   "id": "6a2f817b",
   "metadata": {},
   "outputs": [],
   "source": []
  }
 ],
 "metadata": {
  "kernelspec": {
   "display_name": "Python 3 (ipykernel)",
   "language": "python",
   "name": "python3"
  },
  "language_info": {
   "codemirror_mode": {
    "name": "ipython",
    "version": 3
   },
   "file_extension": ".py",
   "mimetype": "text/x-python",
   "name": "python",
   "nbconvert_exporter": "python",
   "pygments_lexer": "ipython3",
   "version": "3.11.3"
  }
 },
 "nbformat": 4,
 "nbformat_minor": 5
}
